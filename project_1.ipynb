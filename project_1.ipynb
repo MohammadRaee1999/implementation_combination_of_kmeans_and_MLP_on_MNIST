{
 "cells": [
  {
   "cell_type": "markdown",
   "metadata": {},
   "source": [
    "# Computational intelligence Project_1"
   ]
  },
  {
   "cell_type": "markdown",
   "metadata": {},
   "source": [
    "### 1. Import the MNIST dataset"
   ]
  },
  {
   "cell_type": "code",
   "execution_count": 1,
   "metadata": {},
   "outputs": [],
   "source": [
    "import numpy as np\n",
    "import tensorflow as tf"
   ]
  },
  {
   "cell_type": "code",
   "execution_count": 2,
   "metadata": {},
   "outputs": [],
   "source": [
    "(x_train, y_train), (x_test, y_test) = tf.keras.datasets.mnist.load_data()\n",
    "\n",
    "# Rescale the images from [0,255] to the [0.0,1.0] range.\n",
    "# x_train, x_test = x_train[..., np.newaxis]/255.0, x_test[..., np.newaxis]/255.0\n",
    "x_train, x_test = x_train.astype(\"float32\") / 255.0, x_test.astype(\"float32\") / 255.0\n",
    "\n",
    "x_train, y_train = x_train[:6000], y_train[:6000]\n",
    "\n",
    "print(\"x_train shape: \", x_train.shape)\n",
    "print(\"y_train shape: \", y_train.shape)\n",
    "print(\"Number of original training examples:\", len(x_train))\n",
    "print(\"Number of original test examples:\", len(x_test))"
   ]
  },
  {
   "cell_type": "code",
   "execution_count": 3,
   "metadata": {},
   "outputs": [
    {
     "name": "stdout",
     "output_type": "stream",
     "text": [
      "Python: 3.7.3 (default, Mar 27 2019, 17:13:21) [MSC v.1915 64 bit (AMD64)]\n",
      "Sklearn: 0.20.3\n",
      "Matplotlib: 3.0.3\n",
      "NumPy: 1.16.2\n"
     ]
    }
   ],
   "source": [
    "import sys\n",
    "import sklearn\n",
    "import matplotlib\n",
    "import numpy as np\n",
    "\n",
    "print('Python: {}'.format(sys.version))\n",
    "print('Sklearn: {}'.format(sklearn.__version__))\n",
    "print('Matplotlib: {}'.format(matplotlib.__version__))\n",
    "print('NumPy: {}'.format(np.__version__))"
   ]
  },
  {
   "cell_type": "markdown",
   "metadata": {},
   "source": [
    "### 2. Showing some images from train dataset"
   ]
  },
  {
   "cell_type": "code",
   "execution_count": 4,
   "metadata": {},
   "outputs": [],
   "source": [
    "import matplotlib.pyplot as plt\n",
    "\n",
    "# python magic function\n",
    "%matplotlib inline"
   ]
  },
  {
   "cell_type": "code",
   "execution_count": 5,
   "metadata": {},
   "outputs": [
    {
     "data": {
      "image/png": "[encoded data removed]",
      "text/plain": [
       "<Figure size 864x864 with 9 Axes>"
      ]
     },
     "metadata": {
      "needs_background": "light"
     },
     "output_type": "display_data"
    }
   ],
   "source": [
    "import warnings\n",
    "warnings.filterwarnings(\"ignore\")\n",
    "\n",
    "# create figure with 3x3 subplots using matplotlib.pyplot\n",
    "fig, axs = plt.subplots(3, 3, figsize = (12, 12))\n",
    "plt.gray()\n",
    "\n",
    "# loop through subplots and add mnist images\n",
    "for i, ax in enumerate(axs.flat):\n",
    "    ax.matshow(x_train[i])\n",
    "    ax.axis('off')\n",
    "    ax.set_title('Number {}'.format(y_train[i]))\n",
    "    \n",
    "# display the figure\n",
    "fig.show()"
   ]
  },
  {
   "cell_type": "markdown",
   "metadata": {},
   "source": [
    "### 3. Preprocessing the MNIST images"
   ]
  },
  {
   "cell_type": "code",
   "execution_count": 6,
   "metadata": {},
   "outputs": [
    {
     "name": "stdout",
     "output_type": "stream",
     "text": [
      "(60000, 784)\n",
      "(784,)\n"
     ]
    }
   ],
   "source": [
    "# preprocessing the images\n",
    "\n",
    "# convert each image to 1 dimensional array\n",
    "X = x_train.reshape(len(x_train),-1)\n",
    "Y = y_train\n",
    "\n",
    "# normalize the data to 0 - 1\n",
    "X = X.astype(float) / 255.\n",
    "\n",
    "print(X.shape)\n",
    "print(X[0].shape)"
   ]
  },
  {
   "cell_type": "markdown",
   "metadata": {},
   "source": [
    "### 4. K-Means Clustering"
   ]
  },
  {
   "cell_type": "markdown",
   "metadata": {},
   "source": [
    "In this section, we first trained the kmeans model. It took about 124 seconds. Depending on the time taken, we will use another variety of kmeans, MiniBatchKMeans, to speed up the next training.\n",
    "\n",
    "MiniBatchKMeans is to reduce the computational cost by not using all the dataset each iteration but a subsample of a fixed size. This strategy reduces the number of distance computations per iteration at the cost of lower cluster quality\n",
    "\n",
    "In the following link you can see a comparison between MiniBatchKMeans and kmeans.\n",
    "https://upcommons.upc.edu/bitstream/handle/2117/23414/R13-8.pdf\n"
   ]
  },
  {
   "cell_type": "code",
   "execution_count": 7,
   "metadata": {},
   "outputs": [
    {
     "name": "stdout",
     "output_type": "stream",
     "text": [
      "K = 10\n",
      "\n",
      "KMeans(algorithm='auto', copy_x=True, init='k-means++', max_iter=300,\n",
      "    n_clusters=10, n_init=10, n_jobs=None, precompute_distances='auto',\n",
      "    random_state=None, tol=0.0001, verbose=0)\n",
      "\n",
      "time of KMeans is : 124.27\n",
      "\n",
      "MiniBatchKMeans(batch_size=100, compute_labels=True, init='k-means++',\n",
      "        init_size=None, max_iter=100, max_no_improvement=10, n_clusters=10,\n",
      "        n_init=3, random_state=None, reassignment_ratio=0.01, tol=0.0,\n",
      "        verbose=0)\n",
      "\n",
      "time of MiniBatchKMeans is : 0.50\n"
     ]
    }
   ],
   "source": [
    "import time\n",
    "from sklearn.cluster import MiniBatchKMeans, KMeans\n",
    "\n",
    "n_digits = len(np.unique(y_test))\n",
    "print(\"K = %d\\n\" %n_digits)\n",
    "\n",
    "\n",
    "# Initialize KMeans model\n",
    "kmeans =  KMeans(n_clusters = n_digits)\n",
    "\n",
    "# Fit the model to the training data\n",
    "t0 = time.time()\n",
    "print(kmeans.fit(X))\n",
    "t_batch = time.time() - t0\n",
    "\n",
    "#print time of training\n",
    "print(\"\\ntime of KMeans is : %.2f\\n\" %t_batch)\n",
    "\n",
    "\n",
    "# Initialize KMeans model\n",
    "kmeans =  MiniBatchKMeans(n_clusters = n_digits)\n",
    "\n",
    "# Fit the model to the training data\n",
    "t0 = time.time()\n",
    "print(kmeans.fit(X))\n",
    "t_batch = time.time() - t0\n",
    "\n",
    "#print time of training\n",
    "print(\"\\ntime of MiniBatchKMeans is : %.2f\" %t_batch)"
   ]
  },
  {
   "cell_type": "code",
   "execution_count": 8,
   "metadata": {},
   "outputs": [
    {
     "data": {
      "text/plain": [
       "array([0, 4, 9, ..., 3, 0, 1])"
      ]
     },
     "execution_count": 8,
     "metadata": {},
     "output_type": "execute_result"
    }
   ],
   "source": [
    "kmeans.labels_"
   ]
  },
  {
   "cell_type": "markdown",
   "metadata": {},
   "source": [
    "### 5. Assigning Cluster Labels"
   ]
  },
  {
   "cell_type": "code",
   "execution_count": 9,
   "metadata": {},
   "outputs": [],
   "source": [
    "def infer_cluster_labels(kmeans, actual_labels):\n",
    "    \"\"\"\n",
    "    Associates most probable label with each cluster in KMeans model\n",
    "    returns: dictionary of clusters assigned to each label\n",
    "    \"\"\"\n",
    "\n",
    "    inferred_labels = {}\n",
    "\n",
    "    for i in range(kmeans.n_clusters):\n",
    "\n",
    "        # find index of points in cluster\n",
    "        labels = []\n",
    "        index = np.where(kmeans.labels_ == i)\n",
    "\n",
    "        # append actual labels for each point in cluster\n",
    "        labels.append(actual_labels[index])\n",
    "\n",
    "        # determine most common label\n",
    "        if len(labels[0]) == 1:\n",
    "            counts = np.bincount(labels[0])\n",
    "        else:\n",
    "            counts = np.bincount(np.squeeze(labels))\n",
    "\n",
    "        # assign the cluster to a value in the inferred_labels dictionary\n",
    "        if np.argmax(counts) in inferred_labels:\n",
    "            # append the new number to the existing array at this slot\n",
    "            inferred_labels[np.argmax(counts)].append(i)\n",
    "        else:\n",
    "            # create a new array in this slot\n",
    "            inferred_labels[np.argmax(counts)] = [i]\n",
    "\n",
    "        #print(labels)\n",
    "        #print('Cluster: {}, label: {}'.format(i, np.argmax(counts)))\n",
    "        \n",
    "    return inferred_labels  \n",
    "\n",
    "def infer_data_labels(X_labels, cluster_labels):\n",
    "    \"\"\"\n",
    "    Determines label for each array, depending on the cluster it has been assigned to.\n",
    "    returns: predicted labels for each array\n",
    "    \"\"\"\n",
    "    \n",
    "    # empty array of len(X)\n",
    "    predicted_labels = np.zeros(len(X_labels)).astype(np.uint8)\n",
    "    \n",
    "    for i, cluster in enumerate(X_labels):\n",
    "        for key, value in cluster_labels.items():\n",
    "            if cluster in value:\n",
    "                predicted_labels[i] = key\n",
    "                \n",
    "    return predicted_labels"
   ]
  },
  {
   "cell_type": "code",
   "execution_count": 10,
   "metadata": {},
   "outputs": [
    {
     "name": "stdout",
     "output_type": "stream",
     "text": [
      "[0 0 4 1 7 8 9 0 1 7 9 8 3 6 1 7 1 8 1 7]\n",
      "[5 0 4 1 9 2 1 3 1 4 3 5 3 6 1 7 2 8 6 9]\n"
     ]
    }
   ],
   "source": [
    "# test the infer_cluster_labels() and infer_data_labels() functions\n",
    "cluster_labels = infer_cluster_labels(kmeans, Y)\n",
    "X_clusters = kmeans.predict(X)\n",
    "predicted_labels = infer_data_labels(X_clusters, cluster_labels)\n",
    "print (predicted_labels[:20])\n",
    "print (Y[:20])"
   ]
  },
  {
   "cell_type": "markdown",
   "metadata": {},
   "source": [
    "### 6. Calculating Purity and Rand-Index for diffrent parameters"
   ]
  },
  {
   "cell_type": "code",
   "execution_count": 29,
   "metadata": {},
   "outputs": [],
   "source": [
    "import numpy as np\n",
    "from sklearn import metrics\n",
    "\n",
    "def purity_score(y_true, y_pred):\n",
    "    # compute contingency matrix (also called confusion matrix)\n",
    "    contingency_matrix = metrics.cluster.contingency_matrix(y_true, y_pred)\n",
    "    # return purity\n",
    "    return np.sum(np.amax(contingency_matrix, axis=0)) / np.sum(contingency_matrix) "
   ]
  },
  {
   "cell_type": "code",
   "execution_count": 30,
   "metadata": {},
   "outputs": [],
   "source": [
    "import numpy as np\n",
    "from scipy.misc import comb\n",
    "import warnings\n",
    "\n",
    "warnings.filterwarnings(\"ignore\")\n",
    "def rand_index_score(clusters, classes):\n",
    "    tp_plus_fp = comb(np.bincount(clusters), 2).sum()\n",
    "    tp_plus_fn = comb(np.bincount(classes), 2).sum()\n",
    "    A = np.c_[(clusters, classes)]\n",
    "    tp = sum(comb(np.bincount(A[A[:, 0] == i, 1]), 2).sum()\n",
    "             for i in set(clusters))\n",
    "    fp = tp_plus_fp - tp\n",
    "    fn = tp_plus_fn - tp\n",
    "    tn = comb(len(A), 2) - tp - fp - fn\n",
    "    return (tp + tn) / (tp + fp + fn + tn)"
   ]
  },
  {
   "cell_type": "code",
   "execution_count": 31,
   "metadata": {},
   "outputs": [],
   "source": [
    "import time\n",
    "from sklearn.cluster import MiniBatchKMeans\n",
    "\n",
    "def kmeans_whit_differnt_parameters(estimator = MiniBatchKMeans()):\n",
    "    \n",
    "    t0 = time.time()\n",
    "    estimator.fit(X)\n",
    "    t_batch = time.time() - t0\n",
    "  \n",
    "    # determine predicted labels\n",
    "    cluster_labels = infer_cluster_labels(estimator, Y)\n",
    "    predicted_Y = infer_data_labels(estimator.labels_, cluster_labels)\n",
    "    \n",
    "    # print time\n",
    "    print(\"time : %.2f\" %t_batch)\n",
    "    \n",
    "    # calculate and print accuracy\n",
    "    print('purity : %.2f' %(purity_score(Y, predicted_Y)))\n",
    "    print('rand_index : %.2f\\n' %(rand_index_score(Y, predicted_Y)))"
   ]
  },
  {
   "cell_type": "markdown",
   "metadata": {},
   "source": [
    "### 6.1 n_clusters , default = 8\n",
    "\n",
    "The number of clusters to form as well as the number of centroids to generate.\n",
    "\n",
    "According to the results, we are the most accurate for n_clusters = 128 ."
   ]
  },
  {
   "cell_type": "code",
   "execution_count": 32,
   "metadata": {},
   "outputs": [
    {
     "name": "stdout",
     "output_type": "stream",
     "text": [
      "n_clusters : 10\n",
      "time : 0.97\n",
      "purity : 0.54\n",
      "rand_index : 0.86\n",
      "\n",
      "n_clusters : 20\n",
      "time : 1.23\n",
      "purity : 0.67\n",
      "rand_index : 0.90\n",
      "\n",
      "n_clusters : 36\n",
      "time : 2.31\n",
      "purity : 0.76\n",
      "rand_index : 0.92\n",
      "\n",
      "n_clusters : 64\n",
      "time : 2.25\n",
      "purity : 0.80\n",
      "rand_index : 0.94\n",
      "\n",
      "n_clusters : 128\n",
      "time : 4.23\n",
      "purity : 0.85\n",
      "rand_index : 0.95\n",
      "\n"
     ]
    }
   ],
   "source": [
    "clusters = [10, 20, 36, 64 , 128]\n",
    "\n",
    "# test different numbers of clusters\n",
    "for n_clusters in clusters:\n",
    "    estimator = MiniBatchKMeans(n_clusters = n_clusters)\n",
    "    print('n_clusters : {}'.format(estimator.n_clusters))\n",
    "    kmeans_whit_differnt_parameters(estimator)"
   ]
  },
  {
   "cell_type": "markdown",
   "metadata": {},
   "source": [
    "### 6.2 init , default = ’k-means++’\n",
    "\n",
    "Method for initialization:\n",
    "\n",
    "‘k-means++’ : selects initial cluster centers for k-mean clustering in a smart way to speed up convergence. See section Notes in k_init for more details.\n",
    "‘random’: choose n_clusters observations (rows) at random from data for the initial centroids.\n",
    "\n",
    "Here the results are the same for both modes and only in ‘k-means++’ mode purity is better."
   ]
  },
  {
   "cell_type": "code",
   "execution_count": 37,
   "metadata": {},
   "outputs": [
    {
     "name": "stdout",
     "output_type": "stream",
     "text": [
      "init : k-means++\n",
      "time : 3.89\n",
      "purity : 0.86\n",
      "rand_index : 0.95\n",
      "\n",
      "init : random\n",
      "time : 3.57\n",
      "purity : 0.85\n",
      "rand_index : 0.95\n",
      "\n"
     ]
    }
   ],
   "source": [
    "init_state = ['k-means++', 'random']\n",
    "\n",
    "# test different state of initial\n",
    "for init in init_state:\n",
    "    estimator = MiniBatchKMeans(n_clusters = 128 , init = init)\n",
    "    print('init : %s' %(init))\n",
    "    kmeans_whit_differnt_parameters(estimator)"
   ]
  },
  {
   "cell_type": "markdown",
   "metadata": {},
   "source": [
    "### 6.3 n_init , default = 3\n",
    "\n",
    "Number of random initializations that are tried. In contrast to KMeans, the algorithm is only run once, using the best of the n_init initializations as measured by inertia.\n",
    "\n",
    "Here, the same results are obtained for different modes, but less time is spent for n_init = 3."
   ]
  },
  {
   "cell_type": "code",
   "execution_count": 38,
   "metadata": {},
   "outputs": [
    {
     "name": "stdout",
     "output_type": "stream",
     "text": [
      "n_init : 2\n",
      "time : 4.15\n",
      "purity : 0.85\n",
      "rand_index : 0.95\n",
      "\n",
      "n_init : 3\n",
      "time : 3.67\n",
      "purity : 0.86\n",
      "rand_index : 0.95\n",
      "\n",
      "n_init : 6\n",
      "time : 4.19\n",
      "purity : 0.86\n",
      "rand_index : 0.95\n",
      "\n"
     ]
    }
   ],
   "source": [
    "n_inits = [2 , 3 , 6]\n",
    "\n",
    "# test different numbers of initial\n",
    "for n_init in n_inits:\n",
    "    estimator = MiniBatchKMeans(n_clusters = 128, init = 'k-means++', n_init = n_init)\n",
    "    print('n_init : %d' %(n_init))\n",
    "    kmeans_whit_differnt_parameters(estimator)"
   ]
  },
  {
   "cell_type": "markdown",
   "metadata": {},
   "source": [
    "### 6.4 random_state , default = None\n",
    "\n",
    "Determines random number generation for centroid initialization and random reassignment .\n",
    "\n",
    "According to the results below, the ratings are the same for both modes, but for random_state = 10, less time is spent."
   ]
  },
  {
   "cell_type": "code",
   "execution_count": 41,
   "metadata": {},
   "outputs": [
    {
     "name": "stdout",
     "output_type": "stream",
     "text": [
      "random_state : 10\n",
      "time : 3.70\n",
      "purity : 0.86\n",
      "rand_index : 0.95\n",
      "\n",
      "random_state : 20\n",
      "time : 4.03\n",
      "purity : 0.86\n",
      "rand_index : 0.95\n",
      "\n"
     ]
    }
   ],
   "source": [
    "random_states = [10 , 20]\n",
    "\n",
    "# test different state for random\n",
    "for random_state in random_states:\n",
    "    estimator = MiniBatchKMeans(n_clusters = 128 , init = 'k-means++' , n_init = 3 , random_state = random_state)\n",
    "    print('random_state : %d' %(random_state))\n",
    "    kmeans_whit_differnt_parameters(estimator)"
   ]
  },
  {
   "cell_type": "markdown",
   "metadata": {},
   "source": [
    "### 6.5 batch_size , default = 100\n",
    "\n",
    "Size of the mini batches.\n",
    "\n",
    "Here, the same results are obtained for different modes, but less time is spent for batch_size = 100."
   ]
  },
  {
   "cell_type": "code",
   "execution_count": 42,
   "metadata": {},
   "outputs": [
    {
     "name": "stdout",
     "output_type": "stream",
     "text": [
      "batch_size : 80\n",
      "time : 4.08\n",
      "purity : 0.86\n",
      "rand_index : 0.95\n",
      "\n",
      "batch_size : 100\n",
      "time : 3.54\n",
      "purity : 0.86\n",
      "rand_index : 0.95\n",
      "\n",
      "batch_size : 120\n",
      "time : 3.73\n",
      "purity : 0.86\n",
      "rand_index : 0.95\n",
      "\n",
      "batch_size : 150\n",
      "time : 4.01\n",
      "purity : 0.86\n",
      "rand_index : 0.95\n",
      "\n"
     ]
    }
   ],
   "source": [
    "batch_size_array = [80 , 100 , 120 , 150]\n",
    "\n",
    "# test different size of batch\n",
    "for batch_size in batch_size_array:\n",
    "    estimator = MiniBatchKMeans(n_clusters = 128, init = 'k-means++', n_init = 3, random_state = 10, batch_size = batch_size)\n",
    "    print('batch_size : %d' %(batch_size))\n",
    "    kmeans_whit_differnt_parameters(estimator)"
   ]
  },
  {
   "cell_type": "markdown",
   "metadata": {},
   "source": [
    "### 6.6 max_iter , default = 100\n",
    "\n",
    "Maximum number of iterations over the complete dataset before stopping independently of any early stopping criterion heuristics.\n",
    "\n",
    "Here, too, it is more desirable results for max_iter = 100."
   ]
  },
  {
   "cell_type": "code",
   "execution_count": 45,
   "metadata": {},
   "outputs": [
    {
     "name": "stdout",
     "output_type": "stream",
     "text": [
      "max_iter : 70\n",
      "time : 3.76\n",
      "purity : 0.86\n",
      "rand_index : 0.95\n",
      "\n",
      "max_iter : 100\n",
      "time : 3.55\n",
      "purity : 0.86\n",
      "rand_index : 0.95\n",
      "\n",
      "max_iter : 150\n",
      "time : 3.60\n",
      "purity : 0.86\n",
      "rand_index : 0.95\n",
      "\n"
     ]
    }
   ],
   "source": [
    "max_iter_array = [70 , 100 , 150]\n",
    "\n",
    "# test different numbers of max_iteration\n",
    "for max_iter in max_iter_array:\n",
    "    estimator = MiniBatchKMeans(n_clusters = 128, init = 'k-means++', n_init = 3, random_state = 10, batch_size = 100, max_iter = max_iter)\n",
    "    print('max_iter : %d' %(max_iter))\n",
    "    kmeans_whit_differnt_parameters(estimator)"
   ]
  },
  {
   "cell_type": "markdown",
   "metadata": {},
   "source": [
    "### 6.7 init_size , default = None\n",
    "\n",
    "Number of samples to randomly sample for speeding up the initialization (sometimes at the expense of accuracy): the only algorithm is initialized by running a batch KMeans on a random subset of the data.\n",
    "\n",
    "Here, too, for init_size = 300, the results are more favorable."
   ]
  },
  {
   "cell_type": "code",
   "execution_count": 46,
   "metadata": {},
   "outputs": [
    {
     "name": "stdout",
     "output_type": "stream",
     "text": [
      "init_size : 250\n",
      "time : 3.73\n",
      "purity : 0.86\n",
      "rand_index : 0.95\n",
      "\n",
      "init_size : 300\n",
      "time : 3.62\n",
      "purity : 0.86\n",
      "rand_index : 0.95\n",
      "\n",
      "init_size : 400\n",
      "time : 4.87\n",
      "purity : 0.85\n",
      "rand_index : 0.95\n",
      "\n"
     ]
    }
   ],
   "source": [
    "init_size_array = [250 , 300 , 400]\n",
    "\n",
    "# test different size of initial\n",
    "for init_size in init_size_array:\n",
    "    estimator = MiniBatchKMeans(n_clusters = 128, init = 'k-means++', n_init = 3, random_state = 10, batch_size = 100, max_iter = 100, init_size = init_size)\n",
    "    print('init_size : %d' %(init_size))\n",
    "    kmeans_whit_differnt_parameters(estimator)"
   ]
  },
  {
   "cell_type": "markdown",
   "metadata": {},
   "source": [
    "### 7. Visualizing instances of cluster centroid"
   ]
  },
  {
   "cell_type": "code",
   "execution_count": 55,
   "metadata": {},
   "outputs": [
    {
     "data": {
      "image/png": "[encoded data removed]",
      "text/plain": [
       "<Figure size 1440x1440 with 36 Axes>"
      ]
     },
     "metadata": {
      "needs_background": "light"
     },
     "output_type": "display_data"
    }
   ],
   "source": [
    "import warnings\n",
    "from sklearn.cluster import MiniBatchKMeans\n",
    "\n",
    "warnings.filterwarnings(\"ignore\")\n",
    "\n",
    "# Initialize and fit KMeans algorithm\n",
    "kmeans = MiniBatchKMeans(n_clusters = 128, init = 'k-means++', n_init = 3, random_state = 10, batch_size = 100, max_iter = 100, init_size = 300)\n",
    "kmeans.fit(X)\n",
    "\n",
    "# record centroid values\n",
    "centroids = kmeans.cluster_centers_\n",
    "\n",
    "# reshape centroids into images\n",
    "images = centroids.reshape(128, 28, 28)\n",
    "images *= 255\n",
    "images = images.astype(np.uint8)\n",
    "\n",
    "# determine cluster labels\n",
    "cluster_labels = infer_cluster_labels(kmeans, Y)\n",
    "\n",
    "# create figure with subplots using matplotlib.pyplot\n",
    "fig, axs = plt.subplots(6, 6, figsize = (20, 20))\n",
    "plt.gray()\n",
    "\n",
    "# loop through subplots and add centroid images\n",
    "for i, ax in enumerate(axs.flat):\n",
    "    \n",
    "    # determine inferred label using cluster_labels dictionary\n",
    "    for key, value in cluster_labels.items():\n",
    "        if i in value:\n",
    "            ax.set_title('Inferred Label: {}'.format(key))\n",
    "    \n",
    "    # add image to subplot\n",
    "    ax.matshow(images[i])\n",
    "    ax.axis('off')\n",
    "    \n",
    "# display the figure\n",
    "fig.show()"
   ]
  }
 ],
 "metadata": {
  "kernelspec": {
   "display_name": "Python 3",
   "language": "python",
   "name": "python3"
  },
  "language_info": {
   "codemirror_mode": {
    "name": "ipython",
    "version": 3
   },
   "file_extension": ".py",
   "mimetype": "text/x-python",
   "name": "python",
   "nbconvert_exporter": "python",
   "pygments_lexer": "ipython3",
   "version": "3.7.3"
  }
 },
 "nbformat": 4,
 "nbformat_minor": 2
}
